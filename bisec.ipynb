{
 "cells": [
  {
   "cell_type": "code",
   "execution_count": 1,
   "id": "9b8746ce-771d-4cd6-a605-6a99f7b90abd",
   "metadata": {},
   "outputs": [],
   "source": [
    "%reset -f\n",
    "#New Begining\n",
    "import numpy as np\n",
    "from matplotlib import pyplot as plt\n",
    "import ipywidgets as widgets\n",
    "from IPython.display import display\n",
    "\n",
    "class lable:      # New class to make labling easy and code smaller and reusable.\n",
    "  def __init__(self, ll = 'not specified',lx = 'x',ly ='y',style = '-'):\n",
    "    self.ll = ll    # the lable for legend\n",
    "    self.lx = lx    # x axis \n",
    "    self.ly = ly    # y axis\n",
    "    self.style = style\n",
    "\n",
    "\n",
    "def newPlot(x, y, L = lable() ):\n",
    "\n",
    "  fig = plt.figure()\n",
    "  easy = fig.add_subplot(111)   \n",
    "  easy.plot( x, y,  L.style, label = L.ll )\n",
    "  easy.legend()\n",
    "  plt.xlabel( L.lx )\n",
    "  plt.ylabel( L.ly )\n",
    "  plt.show()\n",
    "\n",
    "def multiPlot(x, y, L = lable() ):\n",
    "  plt.plot( x, y, L.style, label = L.ll ,alpha=0.5)\n",
    "  plt.legend()\n",
    "  plt.xlabel( L.lx )\n",
    "  plt.ylabel( L.ly )"
   ]
  },
  {
   "cell_type": "markdown",
   "id": "32fe312c-9067-4f99-a04d-22249365ec77",
   "metadata": {},
   "source": [
    "Find the Roots of \n",
    "$F(x)= sin(x)+0.5$"
   ]
  },
  {
   "cell_type": "code",
   "execution_count": 58,
   "id": "16cabf88-dc41-4dce-95f4-e6339bd74644",
   "metadata": {},
   "outputs": [],
   "source": [
    "def bisection(a,b,esp):\n",
    "    \n",
    "    while abs(a-b)>=esp:\n",
    "        m=(a+b)/2\n",
    "        \n",
    "        print(\"a={0} f(a)={1} b={2} f(b)={3} m={4} del = {5}\".format(a,fn(a),b,fn(b),m,abs(a-b)))\n",
    "        \n",
    "        if fn(a)==0:\n",
    "            return a \n",
    "        elif fn(b)==0:\n",
    "            return b\n",
    "        elif fn(m)*fn(b)<0:\n",
    "            a=m\n",
    "        elif fn(a)*fn(m)<0:\n",
    "            b=m\n",
    "        else:\n",
    "            print(\"No Or even numbers of Root in the given range \")\n",
    "            break\n",
    "        print(m)\n",
    "    print(\"Out of while\")\n",
    "    return m\n",
    "\n",
    "def bisec_rec(a,b,esp):\n",
    "    if fn(a)==0"
   ]
  },
  {
   "cell_type": "code",
   "execution_count": 72,
   "id": "557fd0ff-466b-48fd-8f72-944c0108cd1a",
   "metadata": {},
   "outputs": [],
   "source": [
    "def fn(x):\n",
    "    y=3*x+np.sin(x)-np.e**x\n",
    "    return y"
   ]
  },
  {
   "cell_type": "code",
   "execution_count": 74,
   "id": "36977b32-08e9-490e-881b-02762e24fc68",
   "metadata": {},
   "outputs": [
    {
     "data": {
      "image/png": "[encoded data removed]",
      "text/plain": [
       "<Figure size 640x480 with 1 Axes>"
      ]
     },
     "metadata": {},
     "output_type": "display_data"
    }
   ],
   "source": [
    "a=-10\n",
    "b=1\n",
    "resolution=100\n",
    "x=np.linspace(a,b,resolution)\n",
    "#plt.plot(x,fn(x),x,np.zeros(len(x)),'r')\n",
    "\n",
    "L=lable(ll='$Sin(x)$',lx='x',ly='y')\n",
    "multiPlot(x,fn(x),L)\n",
    "L=lable(ll='x=0',lx='x',ly='y')\n",
    "multiPlot(x,np.zeros(len(x)),L)\n"
   ]
  },
  {
   "cell_type": "code",
   "execution_count": 75,
   "id": "86f34d9f-1ccc-48d3-9985-0ba67bcf9762",
   "metadata": {},
   "outputs": [
    {
     "name": "stdout",
     "output_type": "stream",
     "text": [
      "a=-10 f(a)=-29.456024289040393 b=1 f(b)=1.1231891563488516 m=-4.5 del = 11\n",
      "-4.5\n",
      "a=-4.5 f(a)=-12.533578878873145 b=1 f(b)=1.1231891563488516 m=-1.75 del = 5.5\n",
      "-1.75\n",
      "a=-1.75 f(a)=-6.407759890324383 b=1 f(b)=1.1231891563488516 m=-0.375 del = 2.75\n",
      "-0.375\n",
      "a=-0.375 f(a)=-2.1785618078770197 b=1 f(b)=1.1231891563488516 m=0.3125 del = 1.375\n",
      "0.3125\n",
      "a=0.3125 f(a)=-0.12189942659341546 b=1 f(b)=1.1231891563488516 m=0.65625 del = 0.6875\n",
      "0.65625\n",
      "a=0.3125 f(a)=-0.12189942659341546 b=0.65625 f(b)=0.6513496269082468 m=0.484375 del = 0.34375\n",
      "0.484375\n",
      "a=0.3125 f(a)=-0.12189942659341546 b=0.484375 f(b)=0.2956201299658545 m=0.3984375 del = 0.171875\n",
      "0.3984375\n",
      "a=0.3125 f(a)=-0.12189942659341546 b=0.3984375 f(b)=0.0937956680488552 m=0.35546875 del = 0.0859375\n",
      "0.35546875\n",
      "a=0.35546875 f(a)=-0.0124132343486405 b=0.3984375 f(b)=0.0937956680488552 m=0.376953125 del = 0.04296875\n",
      "0.376953125\n",
      "a=0.35546875 f(a)=-0.0124132343486405 b=0.376953125 f(b)=0.04111263031203882 m=0.3662109375 del = 0.021484375\n",
      "0.3662109375\n",
      "a=0.35546875 f(a)=-0.0124132343486405 b=0.3662109375 f(b)=0.014453573312324552 m=0.36083984375 del = 0.0107421875\n",
      "0.36083984375\n",
      "a=0.35546875 f(a)=-0.0124132343486405 b=0.36083984375 f(b)=0.0010459543516889713 m=0.358154296875 del = 0.00537109375\n",
      "0.358154296875\n",
      "a=0.358154296875 f(a)=-0.005677216727081991 b=0.36083984375 f(b)=0.0010459543516889713 m=0.3594970703125 del = 0.002685546875\n",
      "0.3594970703125\n",
      "a=0.3594970703125 f(a)=-0.002314022503786095 b=0.36083984375 f(b)=0.0010459543516889713 m=0.36016845703125 del = 0.0013427734375\n",
      "0.36016845703125\n",
      "a=0.36016845703125 f(a)=-0.0006336315466208831 b=0.36083984375 f(b)=0.0010459543516889713 m=0.360504150390625 del = 0.00067138671875\n",
      "0.360504150390625\n",
      "a=0.36016845703125 f(a)=-0.0006336315466208831 b=0.360504150390625 f(b)=0.0002062620797091963 m=0.3603363037109375 del = 0.000335693359375\n",
      "0.3603363037109375\n",
      "a=0.3603363037109375 f(a)=-0.00021365956976504563 b=0.360504150390625 f(b)=0.0002062620797091963 m=0.36042022705078125 del = 0.0001678466796875\n",
      "0.36042022705078125\n",
      "Out of while\n"
     ]
    },
    {
     "data": {
      "text/plain": [
       "0.36042022705078125"
      ]
     },
     "execution_count": 75,
     "metadata": {},
     "output_type": "execute_result"
    }
   ],
   "source": [
    "bisection(a,b,0.0001)"
   ]
  },
  {
   "cell_type": "code",
   "execution_count": null,
   "id": "136b90c1-ab12-4646-9dcc-b896df332d3c",
   "metadata": {},
   "outputs": [],
   "source": []
  }
 ],
 "metadata": {
  "kernelspec": {
   "display_name": "Python 3 (ipykernel)",
   "language": "python",
   "name": "python3"
  },
  "language_info": {
   "codemirror_mode": {
    "name": "ipython",
    "version": 3
   },
   "file_extension": ".py",
   "mimetype": "text/x-python",
   "name": "python",
   "nbconvert_exporter": "python",
   "pygments_lexer": "ipython3",
   "version": "3.10.5"
  }
 },
 "nbformat": 4,
 "nbformat_minor": 5
}
